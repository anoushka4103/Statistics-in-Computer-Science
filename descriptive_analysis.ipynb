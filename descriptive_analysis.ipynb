{
 "cells": [
  {
   "cell_type": "markdown",
   "metadata": {},
   "source": [
    "Descriptive Analysis on Univariate data: Assignment 1"
   ]
  },
  {
   "cell_type": "markdown",
   "metadata": {},
   "source": [
    "Descriptive statistics gives us the basic summary measures about the dataset. \n",
    "The summary includes measures of:\n",
    "1. Central tendancies (mean, median and mode)\n",
    "2. Measure of variability (variance, standard deviation, minimum/maximum values, Interquartile range, skewness, kurtosis)"
   ]
  },
  {
   "cell_type": "markdown",
   "metadata": {},
   "source": [
    "___"
   ]
  },
  {
   "cell_type": "markdown",
   "metadata": {},
   "source": [
    "1. **What is descriptive statistics?**\n",
    "- It is a way of summarizing and describing the data using numbers. \n",
    "- Summaries are given using summary measures. Mainly, central tendancies and measures of variability."
   ]
  },
  {
   "cell_type": "markdown",
   "metadata": {},
   "source": [
    "___"
   ]
  },
  {
   "cell_type": "markdown",
   "metadata": {},
   "source": [
    "Exploring the dataset and importing the libraries"
   ]
  },
  {
   "cell_type": "code",
   "execution_count": 19,
   "metadata": {},
   "outputs": [],
   "source": [
    "# Importing libraries\n",
    "import pandas as pd\n",
    "import seaborn as sns\n",
    "import matplotlib.pyplot as plt\n",
    "import numpy as np"
   ]
  },
  {
   "cell_type": "code",
   "execution_count": 3,
   "metadata": {},
   "outputs": [
    {
     "data": {
      "text/html": [
       "<div>\n",
       "<style scoped>\n",
       "    .dataframe tbody tr th:only-of-type {\n",
       "        vertical-align: middle;\n",
       "    }\n",
       "\n",
       "    .dataframe tbody tr th {\n",
       "        vertical-align: top;\n",
       "    }\n",
       "\n",
       "    .dataframe thead th {\n",
       "        text-align: right;\n",
       "    }\n",
       "</style>\n",
       "<table border=\"1\" class=\"dataframe\">\n",
       "  <thead>\n",
       "    <tr style=\"text-align: right;\">\n",
       "      <th></th>\n",
       "      <th>Track</th>\n",
       "      <th>Artist</th>\n",
       "      <th>Duration</th>\n",
       "      <th>Time_Signature</th>\n",
       "      <th>Danceability</th>\n",
       "      <th>Energy</th>\n",
       "      <th>Key</th>\n",
       "      <th>Loudness</th>\n",
       "      <th>Mode</th>\n",
       "      <th>Speechiness</th>\n",
       "      <th>Acousticness</th>\n",
       "      <th>Instrumentalness</th>\n",
       "      <th>Liveness</th>\n",
       "      <th>Valence</th>\n",
       "      <th>Tempo</th>\n",
       "      <th>Popularity</th>\n",
       "      <th>Year</th>\n",
       "    </tr>\n",
       "  </thead>\n",
       "  <tbody>\n",
       "    <tr>\n",
       "      <th>0</th>\n",
       "      <td>Babe</td>\n",
       "      <td>Styx</td>\n",
       "      <td>3:38</td>\n",
       "      <td>4</td>\n",
       "      <td>0.700</td>\n",
       "      <td>0.582</td>\n",
       "      <td>11</td>\n",
       "      <td>-5.960</td>\n",
       "      <td>0</td>\n",
       "      <td>0.0356</td>\n",
       "      <td>0.05020</td>\n",
       "      <td>0.000000</td>\n",
       "      <td>0.0881</td>\n",
       "      <td>0.785</td>\n",
       "      <td>116.712</td>\n",
       "      <td>96</td>\n",
       "      <td>1980</td>\n",
       "    </tr>\n",
       "    <tr>\n",
       "      <th>1</th>\n",
       "      <td>The Rose</td>\n",
       "      <td>Bette Midler</td>\n",
       "      <td>4:04</td>\n",
       "      <td>4</td>\n",
       "      <td>0.264</td>\n",
       "      <td>0.640</td>\n",
       "      <td>8</td>\n",
       "      <td>-6.221</td>\n",
       "      <td>1</td>\n",
       "      <td>0.0442</td>\n",
       "      <td>0.03930</td>\n",
       "      <td>0.000002</td>\n",
       "      <td>0.1510</td>\n",
       "      <td>0.190</td>\n",
       "      <td>84.828</td>\n",
       "      <td>92</td>\n",
       "      <td>1980</td>\n",
       "    </tr>\n",
       "    <tr>\n",
       "      <th>2</th>\n",
       "      <td>Cars</td>\n",
       "      <td>Gary Numan</td>\n",
       "      <td>4:08</td>\n",
       "      <td>4</td>\n",
       "      <td>0.338</td>\n",
       "      <td>0.562</td>\n",
       "      <td>9</td>\n",
       "      <td>-7.181</td>\n",
       "      <td>1</td>\n",
       "      <td>0.0290</td>\n",
       "      <td>0.03900</td>\n",
       "      <td>0.000000</td>\n",
       "      <td>0.1070</td>\n",
       "      <td>0.259</td>\n",
       "      <td>149.907</td>\n",
       "      <td>82</td>\n",
       "      <td>1980</td>\n",
       "    </tr>\n",
       "    <tr>\n",
       "      <th>3</th>\n",
       "      <td>Magic</td>\n",
       "      <td>Olivia Newton-John</td>\n",
       "      <td>2:17</td>\n",
       "      <td>4</td>\n",
       "      <td>0.911</td>\n",
       "      <td>0.689</td>\n",
       "      <td>1</td>\n",
       "      <td>-6.176</td>\n",
       "      <td>1</td>\n",
       "      <td>0.2650</td>\n",
       "      <td>0.00119</td>\n",
       "      <td>0.000000</td>\n",
       "      <td>0.0704</td>\n",
       "      <td>0.546</td>\n",
       "      <td>140.034</td>\n",
       "      <td>80</td>\n",
       "      <td>1980</td>\n",
       "    </tr>\n",
       "    <tr>\n",
       "      <th>4</th>\n",
       "      <td>We Don’t Talk Anymore</td>\n",
       "      <td>Cliff Richard</td>\n",
       "      <td>3:37</td>\n",
       "      <td>4</td>\n",
       "      <td>0.728</td>\n",
       "      <td>0.563</td>\n",
       "      <td>1</td>\n",
       "      <td>-8.053</td>\n",
       "      <td>0</td>\n",
       "      <td>0.1340</td>\n",
       "      <td>0.62100</td>\n",
       "      <td>0.000000</td>\n",
       "      <td>0.1790</td>\n",
       "      <td>0.352</td>\n",
       "      <td>100.017</td>\n",
       "      <td>80</td>\n",
       "      <td>1980</td>\n",
       "    </tr>\n",
       "  </tbody>\n",
       "</table>\n",
       "</div>"
      ],
      "text/plain": [
       "                   Track              Artist Duration  Time_Signature  \\\n",
       "0                   Babe                Styx     3:38               4   \n",
       "1               The Rose        Bette Midler     4:04               4   \n",
       "2                   Cars          Gary Numan     4:08               4   \n",
       "3                  Magic  Olivia Newton-John     2:17               4   \n",
       "4  We Don’t Talk Anymore       Cliff Richard     3:37               4   \n",
       "\n",
       "   Danceability  Energy  Key  Loudness  Mode  Speechiness  Acousticness  \\\n",
       "0         0.700   0.582   11    -5.960     0       0.0356       0.05020   \n",
       "1         0.264   0.640    8    -6.221     1       0.0442       0.03930   \n",
       "2         0.338   0.562    9    -7.181     1       0.0290       0.03900   \n",
       "3         0.911   0.689    1    -6.176     1       0.2650       0.00119   \n",
       "4         0.728   0.563    1    -8.053     0       0.1340       0.62100   \n",
       "\n",
       "   Instrumentalness  Liveness  Valence    Tempo  Popularity  Year  \n",
       "0          0.000000    0.0881    0.785  116.712          96  1980  \n",
       "1          0.000002    0.1510    0.190   84.828          92  1980  \n",
       "2          0.000000    0.1070    0.259  149.907          82  1980  \n",
       "3          0.000000    0.0704    0.546  140.034          80  1980  \n",
       "4          0.000000    0.1790    0.352  100.017          80  1980  "
      ]
     },
     "execution_count": 3,
     "metadata": {},
     "output_type": "execute_result"
    }
   ],
   "source": [
    "spotify_df = pd.read_csv(\"1980sClassics.csv\")\n",
    "spotify_df.head()"
   ]
  },
  {
   "cell_type": "code",
   "execution_count": 4,
   "metadata": {},
   "outputs": [
    {
     "data": {
      "text/plain": [
       "Track               0\n",
       "Artist              0\n",
       "Duration            0\n",
       "Time_Signature      0\n",
       "Danceability        0\n",
       "Energy              0\n",
       "Key                 0\n",
       "Loudness            0\n",
       "Mode                0\n",
       "Speechiness         0\n",
       "Acousticness        0\n",
       "Instrumentalness    0\n",
       "Liveness            0\n",
       "Valence             0\n",
       "Tempo               0\n",
       "Popularity          0\n",
       "Year                0\n",
       "dtype: int64"
      ]
     },
     "execution_count": 4,
     "metadata": {},
     "output_type": "execute_result"
    }
   ],
   "source": [
    "spotify_df.isnull().sum()"
   ]
  },
  {
   "cell_type": "markdown",
   "metadata": {},
   "source": [
    "Note: The dataset has no null values"
   ]
  },
  {
   "cell_type": "code",
   "execution_count": 5,
   "metadata": {},
   "outputs": [
    {
     "data": {
      "text/plain": [
       "(998, 17)"
      ]
     },
     "execution_count": 5,
     "metadata": {},
     "output_type": "execute_result"
    }
   ],
   "source": [
    "spotify_df.shape"
   ]
  },
  {
   "cell_type": "markdown",
   "metadata": {},
   "source": [
    "(998, 17) means the dataset has 998 rows and 17 columns"
   ]
  },
  {
   "cell_type": "markdown",
   "metadata": {},
   "source": [
    "Viewing summary of dataset"
   ]
  },
  {
   "cell_type": "code",
   "execution_count": 6,
   "metadata": {},
   "outputs": [
    {
     "name": "stdout",
     "output_type": "stream",
     "text": [
      "<class 'pandas.core.frame.DataFrame'>\n",
      "RangeIndex: 998 entries, 0 to 997\n",
      "Data columns (total 17 columns):\n",
      " #   Column            Non-Null Count  Dtype  \n",
      "---  ------            --------------  -----  \n",
      " 0   Track             998 non-null    object \n",
      " 1   Artist            998 non-null    object \n",
      " 2   Duration          998 non-null    object \n",
      " 3   Time_Signature    998 non-null    int64  \n",
      " 4   Danceability      998 non-null    float64\n",
      " 5   Energy            998 non-null    float64\n",
      " 6   Key               998 non-null    int64  \n",
      " 7   Loudness          998 non-null    float64\n",
      " 8   Mode              998 non-null    int64  \n",
      " 9   Speechiness       998 non-null    float64\n",
      " 10  Acousticness      998 non-null    float64\n",
      " 11  Instrumentalness  998 non-null    float64\n",
      " 12  Liveness          998 non-null    float64\n",
      " 13  Valence           998 non-null    float64\n",
      " 14  Tempo             998 non-null    float64\n",
      " 15  Popularity        998 non-null    int64  \n",
      " 16  Year              998 non-null    int64  \n",
      "dtypes: float64(9), int64(5), object(3)\n",
      "memory usage: 132.7+ KB\n"
     ]
    }
   ],
   "source": [
    "spotify_df.info()"
   ]
  },
  {
   "cell_type": "markdown",
   "metadata": {},
   "source": [
    "**Descriptive analysis using `describe()` function**"
   ]
  },
  {
   "cell_type": "markdown",
   "metadata": {},
   "source": [
    "1. For all columns (numerical)"
   ]
  },
  {
   "cell_type": "code",
   "execution_count": 7,
   "metadata": {},
   "outputs": [
    {
     "data": {
      "text/html": [
       "<div>\n",
       "<style scoped>\n",
       "    .dataframe tbody tr th:only-of-type {\n",
       "        vertical-align: middle;\n",
       "    }\n",
       "\n",
       "    .dataframe tbody tr th {\n",
       "        vertical-align: top;\n",
       "    }\n",
       "\n",
       "    .dataframe thead th {\n",
       "        text-align: right;\n",
       "    }\n",
       "</style>\n",
       "<table border=\"1\" class=\"dataframe\">\n",
       "  <thead>\n",
       "    <tr style=\"text-align: right;\">\n",
       "      <th></th>\n",
       "      <th>Time_Signature</th>\n",
       "      <th>Danceability</th>\n",
       "      <th>Energy</th>\n",
       "      <th>Key</th>\n",
       "      <th>Loudness</th>\n",
       "      <th>Mode</th>\n",
       "      <th>Speechiness</th>\n",
       "      <th>Acousticness</th>\n",
       "      <th>Instrumentalness</th>\n",
       "      <th>Liveness</th>\n",
       "      <th>Valence</th>\n",
       "      <th>Tempo</th>\n",
       "      <th>Popularity</th>\n",
       "      <th>Year</th>\n",
       "    </tr>\n",
       "  </thead>\n",
       "  <tbody>\n",
       "    <tr>\n",
       "      <th>count</th>\n",
       "      <td>998.000000</td>\n",
       "      <td>998.000000</td>\n",
       "      <td>998.000000</td>\n",
       "      <td>998.000000</td>\n",
       "      <td>998.000000</td>\n",
       "      <td>998.000000</td>\n",
       "      <td>998.00000</td>\n",
       "      <td>998.000000</td>\n",
       "      <td>998.000000</td>\n",
       "      <td>998.000000</td>\n",
       "      <td>998.000000</td>\n",
       "      <td>998.000000</td>\n",
       "      <td>998.000000</td>\n",
       "      <td>998.000000</td>\n",
       "    </tr>\n",
       "    <tr>\n",
       "      <th>mean</th>\n",
       "      <td>3.966934</td>\n",
       "      <td>0.626469</td>\n",
       "      <td>0.633362</td>\n",
       "      <td>5.225451</td>\n",
       "      <td>-8.886123</td>\n",
       "      <td>0.689379</td>\n",
       "      <td>0.05763</td>\n",
       "      <td>0.244627</td>\n",
       "      <td>0.042554</td>\n",
       "      <td>0.178618</td>\n",
       "      <td>0.603099</td>\n",
       "      <td>120.904174</td>\n",
       "      <td>57.743487</td>\n",
       "      <td>1984.498998</td>\n",
       "    </tr>\n",
       "    <tr>\n",
       "      <th>std</th>\n",
       "      <td>0.228178</td>\n",
       "      <td>0.151517</td>\n",
       "      <td>0.203787</td>\n",
       "      <td>3.657376</td>\n",
       "      <td>3.829896</td>\n",
       "      <td>0.462980</td>\n",
       "      <td>0.05574</td>\n",
       "      <td>0.248634</td>\n",
       "      <td>0.157057</td>\n",
       "      <td>0.162648</td>\n",
       "      <td>0.257874</td>\n",
       "      <td>26.254971</td>\n",
       "      <td>17.397193</td>\n",
       "      <td>2.873372</td>\n",
       "    </tr>\n",
       "    <tr>\n",
       "      <th>min</th>\n",
       "      <td>1.000000</td>\n",
       "      <td>0.174000</td>\n",
       "      <td>0.018300</td>\n",
       "      <td>0.000000</td>\n",
       "      <td>-28.980000</td>\n",
       "      <td>0.000000</td>\n",
       "      <td>0.02270</td>\n",
       "      <td>0.000003</td>\n",
       "      <td>0.000000</td>\n",
       "      <td>0.022300</td>\n",
       "      <td>0.028700</td>\n",
       "      <td>61.530000</td>\n",
       "      <td>0.000000</td>\n",
       "      <td>1980.000000</td>\n",
       "    </tr>\n",
       "    <tr>\n",
       "      <th>25%</th>\n",
       "      <td>4.000000</td>\n",
       "      <td>0.534000</td>\n",
       "      <td>0.489000</td>\n",
       "      <td>2.000000</td>\n",
       "      <td>-11.256000</td>\n",
       "      <td>0.000000</td>\n",
       "      <td>0.03170</td>\n",
       "      <td>0.043350</td>\n",
       "      <td>0.000000</td>\n",
       "      <td>0.083950</td>\n",
       "      <td>0.388000</td>\n",
       "      <td>102.303000</td>\n",
       "      <td>49.000000</td>\n",
       "      <td>1982.000000</td>\n",
       "    </tr>\n",
       "    <tr>\n",
       "      <th>50%</th>\n",
       "      <td>4.000000</td>\n",
       "      <td>0.633000</td>\n",
       "      <td>0.651500</td>\n",
       "      <td>5.000000</td>\n",
       "      <td>-8.270000</td>\n",
       "      <td>1.000000</td>\n",
       "      <td>0.03935</td>\n",
       "      <td>0.155000</td>\n",
       "      <td>0.000022</td>\n",
       "      <td>0.113500</td>\n",
       "      <td>0.644000</td>\n",
       "      <td>119.969000</td>\n",
       "      <td>60.000000</td>\n",
       "      <td>1984.500000</td>\n",
       "    </tr>\n",
       "    <tr>\n",
       "      <th>75%</th>\n",
       "      <td>4.000000</td>\n",
       "      <td>0.735000</td>\n",
       "      <td>0.797000</td>\n",
       "      <td>9.000000</td>\n",
       "      <td>-6.045000</td>\n",
       "      <td>1.000000</td>\n",
       "      <td>0.05645</td>\n",
       "      <td>0.387250</td>\n",
       "      <td>0.001448</td>\n",
       "      <td>0.225750</td>\n",
       "      <td>0.824750</td>\n",
       "      <td>135.000750</td>\n",
       "      <td>70.000000</td>\n",
       "      <td>1987.000000</td>\n",
       "    </tr>\n",
       "    <tr>\n",
       "      <th>max</th>\n",
       "      <td>5.000000</td>\n",
       "      <td>0.988000</td>\n",
       "      <td>0.994000</td>\n",
       "      <td>11.000000</td>\n",
       "      <td>-1.496000</td>\n",
       "      <td>1.000000</td>\n",
       "      <td>0.52400</td>\n",
       "      <td>0.996000</td>\n",
       "      <td>0.974000</td>\n",
       "      <td>0.981000</td>\n",
       "      <td>0.984000</td>\n",
       "      <td>208.571000</td>\n",
       "      <td>96.000000</td>\n",
       "      <td>1989.000000</td>\n",
       "    </tr>\n",
       "  </tbody>\n",
       "</table>\n",
       "</div>"
      ],
      "text/plain": [
       "       Time_Signature  Danceability      Energy         Key    Loudness  \\\n",
       "count      998.000000    998.000000  998.000000  998.000000  998.000000   \n",
       "mean         3.966934      0.626469    0.633362    5.225451   -8.886123   \n",
       "std          0.228178      0.151517    0.203787    3.657376    3.829896   \n",
       "min          1.000000      0.174000    0.018300    0.000000  -28.980000   \n",
       "25%          4.000000      0.534000    0.489000    2.000000  -11.256000   \n",
       "50%          4.000000      0.633000    0.651500    5.000000   -8.270000   \n",
       "75%          4.000000      0.735000    0.797000    9.000000   -6.045000   \n",
       "max          5.000000      0.988000    0.994000   11.000000   -1.496000   \n",
       "\n",
       "             Mode  Speechiness  Acousticness  Instrumentalness    Liveness  \\\n",
       "count  998.000000    998.00000    998.000000        998.000000  998.000000   \n",
       "mean     0.689379      0.05763      0.244627          0.042554    0.178618   \n",
       "std      0.462980      0.05574      0.248634          0.157057    0.162648   \n",
       "min      0.000000      0.02270      0.000003          0.000000    0.022300   \n",
       "25%      0.000000      0.03170      0.043350          0.000000    0.083950   \n",
       "50%      1.000000      0.03935      0.155000          0.000022    0.113500   \n",
       "75%      1.000000      0.05645      0.387250          0.001448    0.225750   \n",
       "max      1.000000      0.52400      0.996000          0.974000    0.981000   \n",
       "\n",
       "          Valence       Tempo  Popularity         Year  \n",
       "count  998.000000  998.000000  998.000000   998.000000  \n",
       "mean     0.603099  120.904174   57.743487  1984.498998  \n",
       "std      0.257874   26.254971   17.397193     2.873372  \n",
       "min      0.028700   61.530000    0.000000  1980.000000  \n",
       "25%      0.388000  102.303000   49.000000  1982.000000  \n",
       "50%      0.644000  119.969000   60.000000  1984.500000  \n",
       "75%      0.824750  135.000750   70.000000  1987.000000  \n",
       "max      0.984000  208.571000   96.000000  1989.000000  "
      ]
     },
     "execution_count": 7,
     "metadata": {},
     "output_type": "execute_result"
    }
   ],
   "source": [
    "spotify_df.describe()"
   ]
  },
  {
   "cell_type": "markdown",
   "metadata": {},
   "source": [
    "2. For a specific column eg. Popularity and Tempo"
   ]
  },
  {
   "cell_type": "code",
   "execution_count": 12,
   "metadata": {},
   "outputs": [
    {
     "data": {
      "text/html": [
       "<div>\n",
       "<style scoped>\n",
       "    .dataframe tbody tr th:only-of-type {\n",
       "        vertical-align: middle;\n",
       "    }\n",
       "\n",
       "    .dataframe tbody tr th {\n",
       "        vertical-align: top;\n",
       "    }\n",
       "\n",
       "    .dataframe thead th {\n",
       "        text-align: right;\n",
       "    }\n",
       "</style>\n",
       "<table border=\"1\" class=\"dataframe\">\n",
       "  <thead>\n",
       "    <tr style=\"text-align: right;\">\n",
       "      <th></th>\n",
       "      <th>Popularity</th>\n",
       "      <th>Tempo</th>\n",
       "    </tr>\n",
       "  </thead>\n",
       "  <tbody>\n",
       "    <tr>\n",
       "      <th>count</th>\n",
       "      <td>998.000000</td>\n",
       "      <td>998.000000</td>\n",
       "    </tr>\n",
       "    <tr>\n",
       "      <th>mean</th>\n",
       "      <td>57.743487</td>\n",
       "      <td>120.904174</td>\n",
       "    </tr>\n",
       "    <tr>\n",
       "      <th>std</th>\n",
       "      <td>17.397193</td>\n",
       "      <td>26.254971</td>\n",
       "    </tr>\n",
       "    <tr>\n",
       "      <th>min</th>\n",
       "      <td>0.000000</td>\n",
       "      <td>61.530000</td>\n",
       "    </tr>\n",
       "    <tr>\n",
       "      <th>25%</th>\n",
       "      <td>49.000000</td>\n",
       "      <td>102.303000</td>\n",
       "    </tr>\n",
       "    <tr>\n",
       "      <th>50%</th>\n",
       "      <td>60.000000</td>\n",
       "      <td>119.969000</td>\n",
       "    </tr>\n",
       "    <tr>\n",
       "      <th>75%</th>\n",
       "      <td>70.000000</td>\n",
       "      <td>135.000750</td>\n",
       "    </tr>\n",
       "    <tr>\n",
       "      <th>max</th>\n",
       "      <td>96.000000</td>\n",
       "      <td>208.571000</td>\n",
       "    </tr>\n",
       "  </tbody>\n",
       "</table>\n",
       "</div>"
      ],
      "text/plain": [
       "       Popularity       Tempo\n",
       "count  998.000000  998.000000\n",
       "mean    57.743487  120.904174\n",
       "std     17.397193   26.254971\n",
       "min      0.000000   61.530000\n",
       "25%     49.000000  102.303000\n",
       "50%     60.000000  119.969000\n",
       "75%     70.000000  135.000750\n",
       "max     96.000000  208.571000"
      ]
     },
     "execution_count": 12,
     "metadata": {},
     "output_type": "execute_result"
    }
   ],
   "source": [
    "spotify_df[['Popularity', 'Tempo']].describe()"
   ]
  },
  {
   "cell_type": "markdown",
   "metadata": {},
   "source": [
    "_Conclusion_: \n",
    "- The `describe()` function gives mean, standard deviation, minimum value, 25th percentile, median (50th percentile), 75th percentile, and maximum value in all the numerical attributes of the dataset."
   ]
  },
  {
   "cell_type": "markdown",
   "metadata": {},
   "source": [
    "___"
   ]
  },
  {
   "cell_type": "markdown",
   "metadata": {},
   "source": [
    "2. **Central tendancies: Mean, Median and Mode**\n",
    "\n",
    "- _Mean_: The mean is the average of all the numbers in a data set. We can find mean of a number of elements by adding all the elements in a dataset and then dividing by the number of elements in the dataset. Drawback of mean is that the mean is affected by the presence of outliers.\n",
    "\n",
    "- _Median_: Median is the number which divides the dataset into two equal halves. The median is the number at (n+1)/2 th position, if n is odd. If n is even, then it is the average of the (n/2)th number and (n+2)/2 th number. Median is robust to outliers.\n",
    "\n",
    "- _Mode_: Mode is the value that occurs most often in the dataset. It has the highest frequency of occurrence in the dataset.\n",
    "\n",
    "The `Popularity` variable will be used for calculations"
   ]
  },
  {
   "cell_type": "code",
   "execution_count": 14,
   "metadata": {},
   "outputs": [
    {
     "name": "stdout",
     "output_type": "stream",
     "text": [
      "57.743486973947896\n"
     ]
    }
   ],
   "source": [
    "mean = spotify_df['Popularity'].mean()\n",
    "print(mean)"
   ]
  },
  {
   "cell_type": "code",
   "execution_count": 15,
   "metadata": {},
   "outputs": [
    {
     "name": "stdout",
     "output_type": "stream",
     "text": [
      "60.0\n"
     ]
    }
   ],
   "source": [
    "median = spotify_df['Popularity'].median()\n",
    "print(median)"
   ]
  },
  {
   "cell_type": "code",
   "execution_count": 22,
   "metadata": {},
   "outputs": [
    {
     "name": "stdout",
     "output_type": "stream",
     "text": [
      "63\n"
     ]
    }
   ],
   "source": [
    "mode = spotify_df['Popularity'].mode()[0]\n",
    "print(mode)"
   ]
  },
  {
   "cell_type": "markdown",
   "metadata": {},
   "source": [
    "_Conclusion_: We can see that mode > median > mean. So, the data is most likely skewed."
   ]
  },
  {
   "cell_type": "markdown",
   "metadata": {},
   "source": [
    "___"
   ]
  },
  {
   "cell_type": "markdown",
   "metadata": {},
   "source": [
    "Plotting the distribution"
   ]
  },
  {
   "cell_type": "code",
   "execution_count": 23,
   "metadata": {},
   "outputs": [],
   "source": [
    "data = spotify_df['Popularity']"
   ]
  },
  {
   "cell_type": "code",
   "execution_count": 24,
   "metadata": {},
   "outputs": [
    {
     "data": {
      "image/png": "[encoded data removed]",
      "text/plain": [
       "<Figure size 1000x600 with 1 Axes>"
      ]
     },
     "metadata": {},
     "output_type": "display_data"
    }
   ],
   "source": [
    "plt.figure(figsize=(10, 6))\n",
    "sns.histplot(data, kde=True, color='skyblue', bins=30)\n",
    "\n",
    "# Plotting mean, median, and mode\n",
    "plt.axvline(mean, color='red', linestyle='--', label=f'Mean: {mean:.2f}')\n",
    "plt.axvline(median, color='green', linestyle='-', label=f'Median: {median:.2f}')\n",
    "plt.axvline(mode, color='blue', linestyle='-', label=f'Mode: {mode:.2f}')\n",
    "\n",
    "plt.title('Popularity Distribution with Mean, Median, and Mode')\n",
    "plt.xlabel('Popularity')\n",
    "plt.ylabel('Frequency')\n",
    "plt.legend()\n",
    "plt.show()\n"
   ]
  },
  {
   "cell_type": "markdown",
   "metadata": {},
   "source": [
    "___"
   ]
  },
  {
   "cell_type": "markdown",
   "metadata": {},
   "source": [
    "**_APPENDIX_**"
   ]
  },
  {
   "cell_type": "markdown",
   "metadata": {},
   "source": [
    "`plt.axvline`: The function draws vertical lines at the mean, median, and mode values on the plot."
   ]
  }
 ],
 "metadata": {
  "kernelspec": {
   "display_name": "Python 3",
   "language": "python",
   "name": "python3"
  },
  "language_info": {
   "codemirror_mode": {
    "name": "ipython",
    "version": 3
   },
   "file_extension": ".py",
   "mimetype": "text/x-python",
   "name": "python",
   "nbconvert_exporter": "python",
   "pygments_lexer": "ipython3",
   "version": "3.12.2"
  }
 },
 "nbformat": 4,
 "nbformat_minor": 2
}
